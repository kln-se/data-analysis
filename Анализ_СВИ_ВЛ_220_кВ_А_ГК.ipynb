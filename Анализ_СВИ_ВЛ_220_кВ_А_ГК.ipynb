{
  "nbformat": 4,
  "nbformat_minor": 0,
  "metadata": {
    "colab": {
      "provenance": [],
      "authorship_tag": "ABX9TyOrg262tffBG6q7QD5hDRoY",
      "include_colab_link": true
    },
    "kernelspec": {
      "name": "python3",
      "display_name": "Python 3"
    },
    "language_info": {
      "name": "python"
    }
  },
  "cells": [
    {
      "cell_type": "markdown",
      "metadata": {
        "id": "view-in-github",
        "colab_type": "text"
      },
      "source": [
        "<a href=\"https://colab.research.google.com/github/kln-se/data-analysis/blob/main/%D0%90%D0%BD%D0%B0%D0%BB%D0%B8%D0%B7_%D0%A1%D0%92%D0%98_%D0%92%D0%9B_220_%D0%BA%D0%92_%D0%90_%D0%93%D0%9A.ipynb\" target=\"_parent\"><img src=\"https://colab.research.google.com/assets/colab-badge.svg\" alt=\"Open In Colab\"/></a>"
      ]
    },
    {
      "cell_type": "code",
      "metadata": {
        "id": "t5KKdsuVzVJA",
        "colab": {
          "base_uri": "https://localhost:8080/"
        },
        "outputId": "c88076e8-8985-414f-e30b-64e4a943482e"
      },
      "source": [
        "# Доступ к диску\n",
        "from google.colab import drive\n",
        "drive.mount('/content/drive')"
      ],
      "execution_count": null,
      "outputs": [
        {
          "output_type": "stream",
          "text": [
            "Drive already mounted at /content/drive; to attempt to forcibly remount, call drive.mount(\"/content/drive\", force_remount=True).\n"
          ],
          "name": "stdout"
        }
      ]
    },
    {
      "cell_type": "code",
      "metadata": {
        "id": "VZmqrhEkRYnu"
      },
      "source": [
        "import pandas as pd\n",
        "import os\n",
        "import glob\n",
        "import numpy as np"
      ],
      "execution_count": null,
      "outputs": []
    },
    {
      "cell_type": "code",
      "metadata": {
        "id": "rmDcLfokRSkV"
      },
      "source": [
        "# Список имен файлов\n",
        "os.listdir('/content/drive/MyDrive/Colab Notebooks/Работа/out')"
      ],
      "execution_count": null,
      "outputs": []
    },
    {
      "cell_type": "code",
      "metadata": {
        "colab": {
          "base_uri": "https://localhost:8080/"
        },
        "id": "H0Wp54F227oW",
        "outputId": "951c04c4-cf5f-462b-d007-8800dbd78106"
      },
      "source": [
        "# Список имен файлов\n",
        "l = os.listdir('/content/drive/MyDrive/Colab Notebooks/Работа/out')\n",
        "print(len(l))"
      ],
      "execution_count": null,
      "outputs": [
        {
          "output_type": "stream",
          "text": [
            "5602\n"
          ],
          "name": "stdout"
        }
      ]
    },
    {
      "cell_type": "code",
      "metadata": {
        "id": "iKlbasY8SBmP"
      },
      "source": [
        "# Путь к папке с файлами\n",
        "path =r'/content/drive/MyDrive/Colab Notebooks/Работа/out/'\n",
        "\n",
        "# Создадим список c путями к каждому файлу\n",
        "file_pathes = glob.glob(path + '*.csv')\n",
        "\n",
        "# Список, который будет хранить считанную информацию из каждого файла\n",
        "dfs = []\n",
        "\n",
        "\n",
        "# Считываем\n",
        "for idx,file_path in enumerate(file_pathes):\n",
        "    print(idx)\n",
        "    dfs.append(pd.read_csv(file_path))\n",
        "\n",
        "# Объединяем все df\n",
        "complete_df = pd.concat(dfs[:10], ignore_index=True)"
      ],
      "execution_count": null,
      "outputs": []
    },
    {
      "cell_type": "code",
      "metadata": {
        "id": "zydIjHgYQ4AU"
      },
      "source": [
        "# Сохраним получившийся df в файл\n",
        "complete_df.to_csv(path_or_buf = '/content/drive/MyDrive/Colab Notebooks/Работа/out/pmu_data.csv')"
      ],
      "execution_count": null,
      "outputs": []
    },
    {
      "cell_type": "code",
      "metadata": {
        "id": "w6FjQnJopgNH"
      },
      "source": [
        "data = pd.read_csv(filepath_or_buffer = '/content/drive/MyDrive/Colab Notebooks/Работа/out/pmu_data.csv')"
      ],
      "execution_count": null,
      "outputs": []
    },
    {
      "cell_type": "code",
      "metadata": {
        "id": "yvzbZKS51ElY"
      },
      "source": [
        "cdata = data.copy()"
      ],
      "execution_count": null,
      "outputs": []
    },
    {
      "cell_type": "code",
      "metadata": {
        "colab": {
          "base_uri": "https://localhost:8080/"
        },
        "id": "5bBnUA-LQ0FC",
        "outputId": "1bcb82c1-339b-41a0-d6a4-3b79bf523940"
      },
      "source": [
        "# ВЛ 220 кВ А - ГК: idcode = 3170\n",
        "agk = cdata[ cdata['IDCODE'] == 3170 ]\n",
        "# Удаляем лишний столбец\n",
        "agk.drop(columns = ['Unnamed: 0'], inplace = True)\n",
        "# Удаляем лишние пробелы в метках\n",
        "agk['ChannelName'] = agk['ChannelName'].apply(lambda x: x.strip())\n",
        "# Подредактируем метку времени\n",
        "agk['DateTime'] = agk['DateTime'].apply(lambda x: x[0:-3])\n",
        "# Уберем скобки, выделим амплитуду и фазу\n",
        "agk['Phasors'] = agk['Phasors'].apply(lambda x: x[1:-1].split(','))\n",
        "# Переведем фазу в градусы и округлим, округлим амплитуду\n",
        "#agk['Phasors'] = agk['Phasors'].apply(lambda x: [round(float(x[0]), 2), round(float(x[1])*180/np.pi, 3)])"
      ],
      "execution_count": null,
      "outputs": [
        {
          "output_type": "stream",
          "text": [
            "/usr/local/lib/python3.7/dist-packages/pandas/core/frame.py:4174: SettingWithCopyWarning: \n",
            "A value is trying to be set on a copy of a slice from a DataFrame\n",
            "\n",
            "See the caveats in the documentation: https://pandas.pydata.org/pandas-docs/stable/user_guide/indexing.html#returning-a-view-versus-a-copy\n",
            "  errors=errors,\n",
            "/usr/local/lib/python3.7/dist-packages/ipykernel_launcher.py:6: SettingWithCopyWarning: \n",
            "A value is trying to be set on a copy of a slice from a DataFrame.\n",
            "Try using .loc[row_indexer,col_indexer] = value instead\n",
            "\n",
            "See the caveats in the documentation: https://pandas.pydata.org/pandas-docs/stable/user_guide/indexing.html#returning-a-view-versus-a-copy\n",
            "  \n",
            "/usr/local/lib/python3.7/dist-packages/ipykernel_launcher.py:8: SettingWithCopyWarning: \n",
            "A value is trying to be set on a copy of a slice from a DataFrame.\n",
            "Try using .loc[row_indexer,col_indexer] = value instead\n",
            "\n",
            "See the caveats in the documentation: https://pandas.pydata.org/pandas-docs/stable/user_guide/indexing.html#returning-a-view-versus-a-copy\n",
            "  \n",
            "/usr/local/lib/python3.7/dist-packages/ipykernel_launcher.py:10: SettingWithCopyWarning: \n",
            "A value is trying to be set on a copy of a slice from a DataFrame.\n",
            "Try using .loc[row_indexer,col_indexer] = value instead\n",
            "\n",
            "See the caveats in the documentation: https://pandas.pydata.org/pandas-docs/stable/user_guide/indexing.html#returning-a-view-versus-a-copy\n",
            "  # Remove the CWD from sys.path while we load stuff.\n"
          ],
          "name": "stderr"
        }
      ]
    },
    {
      "cell_type": "code",
      "metadata": {
        "colab": {
          "base_uri": "https://localhost:8080/",
          "height": 414
        },
        "id": "sS2PTKYtGPP9",
        "outputId": "5616bbd5-981b-4483-c46f-0eecd2f1de1a"
      },
      "source": [
        "agk"
      ],
      "execution_count": null,
      "outputs": [
        {
          "output_type": "execute_result",
          "data": {
            "text/html": [
              "<div>\n",
              "<style scoped>\n",
              "    .dataframe tbody tr th:only-of-type {\n",
              "        vertical-align: middle;\n",
              "    }\n",
              "\n",
              "    .dataframe tbody tr th {\n",
              "        vertical-align: top;\n",
              "    }\n",
              "\n",
              "    .dataframe thead th {\n",
              "        text-align: right;\n",
              "    }\n",
              "</style>\n",
              "<table border=\"1\" class=\"dataframe\">\n",
              "  <thead>\n",
              "    <tr style=\"text-align: right;\">\n",
              "      <th></th>\n",
              "      <th>DateTime</th>\n",
              "      <th>ChannelName</th>\n",
              "      <th>Phasors</th>\n",
              "      <th>IDCODE</th>\n",
              "    </tr>\n",
              "  </thead>\n",
              "  <tbody>\n",
              "    <tr>\n",
              "      <th>0</th>\n",
              "      <td>2021-06-11T16:56:42.0</td>\n",
              "      <td>Uphs_a</td>\n",
              "      <td>[130658.0,  -0.0064235446]</td>\n",
              "      <td>3170</td>\n",
              "    </tr>\n",
              "    <tr>\n",
              "      <th>1</th>\n",
              "      <td>2021-06-11T16:56:42.0</td>\n",
              "      <td>Uphs_b</td>\n",
              "      <td>[131406.0,  -2.0985816]</td>\n",
              "      <td>3170</td>\n",
              "    </tr>\n",
              "    <tr>\n",
              "      <th>2</th>\n",
              "      <td>2021-06-11T16:56:42.0</td>\n",
              "      <td>Uphs_c</td>\n",
              "      <td>[130966.0,  2.0843923]</td>\n",
              "      <td>3170</td>\n",
              "    </tr>\n",
              "    <tr>\n",
              "      <th>3</th>\n",
              "      <td>2021-06-11T16:56:42.0</td>\n",
              "      <td>Iphs_a</td>\n",
              "      <td>[16.1,  -1.2942004]</td>\n",
              "      <td>3170</td>\n",
              "    </tr>\n",
              "    <tr>\n",
              "      <th>4</th>\n",
              "      <td>2021-06-11T16:56:42.0</td>\n",
              "      <td>Iphs_b</td>\n",
              "      <td>[11.6,  3.0922177]</td>\n",
              "      <td>3170</td>\n",
              "    </tr>\n",
              "    <tr>\n",
              "      <th>...</th>\n",
              "      <td>...</td>\n",
              "      <td>...</td>\n",
              "      <td>...</td>\n",
              "      <td>...</td>\n",
              "    </tr>\n",
              "    <tr>\n",
              "      <th>16142215</th>\n",
              "      <td>2021-06-14T14:14:56.0</td>\n",
              "      <td>U1</td>\n",
              "      <td>[129734.0,  2.2208207]</td>\n",
              "      <td>3170</td>\n",
              "    </tr>\n",
              "    <tr>\n",
              "      <th>16142216</th>\n",
              "      <td>2021-06-14T14:14:56.0</td>\n",
              "      <td>U2</td>\n",
              "      <td>[550.0,  -1.8281215]</td>\n",
              "      <td>3170</td>\n",
              "    </tr>\n",
              "    <tr>\n",
              "      <th>16142217</th>\n",
              "      <td>2021-06-14T14:14:56.0</td>\n",
              "      <td>I0</td>\n",
              "      <td>[0.6,  0.35943088]</td>\n",
              "      <td>3170</td>\n",
              "    </tr>\n",
              "    <tr>\n",
              "      <th>16142218</th>\n",
              "      <td>2021-06-14T14:14:56.0</td>\n",
              "      <td>I1</td>\n",
              "      <td>[152.1,  -0.67207533]</td>\n",
              "      <td>3170</td>\n",
              "    </tr>\n",
              "    <tr>\n",
              "      <th>16142219</th>\n",
              "      <td>2021-06-14T14:14:56.0</td>\n",
              "      <td>I2</td>\n",
              "      <td>[4.0,  0.65433866]</td>\n",
              "      <td>3170</td>\n",
              "    </tr>\n",
              "  </tbody>\n",
              "</table>\n",
              "<p>4036416 rows × 4 columns</p>\n",
              "</div>"
            ],
            "text/plain": [
              "                       DateTime ChannelName                     Phasors  IDCODE\n",
              "0         2021-06-11T16:56:42.0      Uphs_a  [130658.0,  -0.0064235446]    3170\n",
              "1         2021-06-11T16:56:42.0      Uphs_b     [131406.0,  -2.0985816]    3170\n",
              "2         2021-06-11T16:56:42.0      Uphs_c      [130966.0,  2.0843923]    3170\n",
              "3         2021-06-11T16:56:42.0      Iphs_a         [16.1,  -1.2942004]    3170\n",
              "4         2021-06-11T16:56:42.0      Iphs_b          [11.6,  3.0922177]    3170\n",
              "...                         ...         ...                         ...     ...\n",
              "16142215  2021-06-14T14:14:56.0          U1      [129734.0,  2.2208207]    3170\n",
              "16142216  2021-06-14T14:14:56.0          U2        [550.0,  -1.8281215]    3170\n",
              "16142217  2021-06-14T14:14:56.0          I0          [0.6,  0.35943088]    3170\n",
              "16142218  2021-06-14T14:14:56.0          I1       [152.1,  -0.67207533]    3170\n",
              "16142219  2021-06-14T14:14:56.0          I2          [4.0,  0.65433866]    3170\n",
              "\n",
              "[4036416 rows x 4 columns]"
            ]
          },
          "metadata": {
            "tags": []
          },
          "execution_count": 6
        }
      ]
    },
    {
      "cell_type": "code",
      "metadata": {
        "id": "bjSdGUzQ5saT"
      },
      "source": [
        "cagk = agk.drop_duplicates(subset=['DateTime','ChannelName'])"
      ],
      "execution_count": null,
      "outputs": []
    },
    {
      "cell_type": "code",
      "metadata": {
        "colab": {
          "base_uri": "https://localhost:8080/",
          "height": 414
        },
        "id": "ZQoBVk2_Ax3k",
        "outputId": "b02aa509-0b2c-4f57-c011-a718fa4a991a"
      },
      "source": [
        "cagk"
      ],
      "execution_count": null,
      "outputs": [
        {
          "output_type": "execute_result",
          "data": {
            "text/html": [
              "<div>\n",
              "<style scoped>\n",
              "    .dataframe tbody tr th:only-of-type {\n",
              "        vertical-align: middle;\n",
              "    }\n",
              "\n",
              "    .dataframe tbody tr th {\n",
              "        vertical-align: top;\n",
              "    }\n",
              "\n",
              "    .dataframe thead th {\n",
              "        text-align: right;\n",
              "    }\n",
              "</style>\n",
              "<table border=\"1\" class=\"dataframe\">\n",
              "  <thead>\n",
              "    <tr style=\"text-align: right;\">\n",
              "      <th></th>\n",
              "      <th>DateTime</th>\n",
              "      <th>ChannelName</th>\n",
              "      <th>Phasors</th>\n",
              "      <th>IDCODE</th>\n",
              "    </tr>\n",
              "  </thead>\n",
              "  <tbody>\n",
              "    <tr>\n",
              "      <th>0</th>\n",
              "      <td>2021-06-11T16:56:42.0</td>\n",
              "      <td>Uphs_a</td>\n",
              "      <td>[130658.0,  -0.0064235446]</td>\n",
              "      <td>3170</td>\n",
              "    </tr>\n",
              "    <tr>\n",
              "      <th>1</th>\n",
              "      <td>2021-06-11T16:56:42.0</td>\n",
              "      <td>Uphs_b</td>\n",
              "      <td>[131406.0,  -2.0985816]</td>\n",
              "      <td>3170</td>\n",
              "    </tr>\n",
              "    <tr>\n",
              "      <th>2</th>\n",
              "      <td>2021-06-11T16:56:42.0</td>\n",
              "      <td>Uphs_c</td>\n",
              "      <td>[130966.0,  2.0843923]</td>\n",
              "      <td>3170</td>\n",
              "    </tr>\n",
              "    <tr>\n",
              "      <th>3</th>\n",
              "      <td>2021-06-11T16:56:42.0</td>\n",
              "      <td>Iphs_a</td>\n",
              "      <td>[16.1,  -1.2942004]</td>\n",
              "      <td>3170</td>\n",
              "    </tr>\n",
              "    <tr>\n",
              "      <th>4</th>\n",
              "      <td>2021-06-11T16:56:42.0</td>\n",
              "      <td>Iphs_b</td>\n",
              "      <td>[11.6,  3.0922177]</td>\n",
              "      <td>3170</td>\n",
              "    </tr>\n",
              "    <tr>\n",
              "      <th>...</th>\n",
              "      <td>...</td>\n",
              "      <td>...</td>\n",
              "      <td>...</td>\n",
              "      <td>...</td>\n",
              "    </tr>\n",
              "    <tr>\n",
              "      <th>16142215</th>\n",
              "      <td>2021-06-14T14:14:56.0</td>\n",
              "      <td>U1</td>\n",
              "      <td>[129734.0,  2.2208207]</td>\n",
              "      <td>3170</td>\n",
              "    </tr>\n",
              "    <tr>\n",
              "      <th>16142216</th>\n",
              "      <td>2021-06-14T14:14:56.0</td>\n",
              "      <td>U2</td>\n",
              "      <td>[550.0,  -1.8281215]</td>\n",
              "      <td>3170</td>\n",
              "    </tr>\n",
              "    <tr>\n",
              "      <th>16142217</th>\n",
              "      <td>2021-06-14T14:14:56.0</td>\n",
              "      <td>I0</td>\n",
              "      <td>[0.6,  0.35943088]</td>\n",
              "      <td>3170</td>\n",
              "    </tr>\n",
              "    <tr>\n",
              "      <th>16142218</th>\n",
              "      <td>2021-06-14T14:14:56.0</td>\n",
              "      <td>I1</td>\n",
              "      <td>[152.1,  -0.67207533]</td>\n",
              "      <td>3170</td>\n",
              "    </tr>\n",
              "    <tr>\n",
              "      <th>16142219</th>\n",
              "      <td>2021-06-14T14:14:56.0</td>\n",
              "      <td>I2</td>\n",
              "      <td>[4.0,  0.65433866]</td>\n",
              "      <td>3170</td>\n",
              "    </tr>\n",
              "  </tbody>\n",
              "</table>\n",
              "<p>4035684 rows × 4 columns</p>\n",
              "</div>"
            ],
            "text/plain": [
              "                       DateTime ChannelName                     Phasors  IDCODE\n",
              "0         2021-06-11T16:56:42.0      Uphs_a  [130658.0,  -0.0064235446]    3170\n",
              "1         2021-06-11T16:56:42.0      Uphs_b     [131406.0,  -2.0985816]    3170\n",
              "2         2021-06-11T16:56:42.0      Uphs_c      [130966.0,  2.0843923]    3170\n",
              "3         2021-06-11T16:56:42.0      Iphs_a         [16.1,  -1.2942004]    3170\n",
              "4         2021-06-11T16:56:42.0      Iphs_b          [11.6,  3.0922177]    3170\n",
              "...                         ...         ...                         ...     ...\n",
              "16142215  2021-06-14T14:14:56.0          U1      [129734.0,  2.2208207]    3170\n",
              "16142216  2021-06-14T14:14:56.0          U2        [550.0,  -1.8281215]    3170\n",
              "16142217  2021-06-14T14:14:56.0          I0          [0.6,  0.35943088]    3170\n",
              "16142218  2021-06-14T14:14:56.0          I1       [152.1,  -0.67207533]    3170\n",
              "16142219  2021-06-14T14:14:56.0          I2          [4.0,  0.65433866]    3170\n",
              "\n",
              "[4035684 rows x 4 columns]"
            ]
          },
          "metadata": {
            "tags": []
          },
          "execution_count": 8
        }
      ]
    },
    {
      "cell_type": "code",
      "metadata": {
        "colab": {
          "base_uri": "https://localhost:8080/"
        },
        "id": "sGoGsQKj7qBL",
        "outputId": "8255dc11-8d58-4812-c59b-db2df17c9fde"
      },
      "source": [
        "cagk['ChannelName'].unique()"
      ],
      "execution_count": null,
      "outputs": [
        {
          "output_type": "execute_result",
          "data": {
            "text/plain": [
              "array(['Uphs_a', 'Uphs_b', 'Uphs_c', 'Iphs_a', 'Iphs_b', 'Iphs_c', 'U0',\n",
              "       'U1', 'U2', 'I0', 'I1', 'I2'], dtype=object)"
            ]
          },
          "metadata": {
            "tags": []
          },
          "execution_count": 9
        }
      ]
    },
    {
      "cell_type": "code",
      "metadata": {
        "id": "62yC3as07A_A"
      },
      "source": [
        "pagk = cagk.pivot(index='DateTime', columns='ChannelName', values='Phasors')"
      ],
      "execution_count": null,
      "outputs": []
    },
    {
      "cell_type": "code",
      "metadata": {
        "colab": {
          "base_uri": "https://localhost:8080/",
          "height": 612
        },
        "id": "5U8e9oFkDFyd",
        "outputId": "8a42cdf7-b147-403d-dfa1-d31a8eedc6d5"
      },
      "source": [
        "pagk.astype('O')"
      ],
      "execution_count": null,
      "outputs": [
        {
          "output_type": "execute_result",
          "data": {
            "text/html": [
              "<div>\n",
              "<style scoped>\n",
              "    .dataframe tbody tr th:only-of-type {\n",
              "        vertical-align: middle;\n",
              "    }\n",
              "\n",
              "    .dataframe tbody tr th {\n",
              "        vertical-align: top;\n",
              "    }\n",
              "\n",
              "    .dataframe thead th {\n",
              "        text-align: right;\n",
              "    }\n",
              "</style>\n",
              "<table border=\"1\" class=\"dataframe\">\n",
              "  <thead>\n",
              "    <tr style=\"text-align: right;\">\n",
              "      <th>ChannelName</th>\n",
              "      <th>I0</th>\n",
              "      <th>I1</th>\n",
              "      <th>I2</th>\n",
              "      <th>Iphs_a</th>\n",
              "      <th>Iphs_b</th>\n",
              "      <th>Iphs_c</th>\n",
              "      <th>U0</th>\n",
              "      <th>U1</th>\n",
              "      <th>U2</th>\n",
              "      <th>Uphs_a</th>\n",
              "      <th>Uphs_b</th>\n",
              "      <th>Uphs_c</th>\n",
              "    </tr>\n",
              "    <tr>\n",
              "      <th>DateTime</th>\n",
              "      <th></th>\n",
              "      <th></th>\n",
              "      <th></th>\n",
              "      <th></th>\n",
              "      <th></th>\n",
              "      <th></th>\n",
              "      <th></th>\n",
              "      <th></th>\n",
              "      <th></th>\n",
              "      <th></th>\n",
              "      <th></th>\n",
              "      <th></th>\n",
              "    </tr>\n",
              "  </thead>\n",
              "  <tbody>\n",
              "    <tr>\n",
              "      <th>2021-06-10T16:59:51.8</th>\n",
              "      <td>[0.3,  1.6222806]</td>\n",
              "      <td>[81.3,  1.7585173]</td>\n",
              "      <td>[7.2000003,  2.8639421]</td>\n",
              "      <td>[85.200005,  1.833874]</td>\n",
              "      <td>[85.4,  -0.40276584]</td>\n",
              "      <td>[73.9,  -2.4398923]</td>\n",
              "      <td>[66.0,  -3.0641265]</td>\n",
              "      <td>[131648.0,  -1.9061629]</td>\n",
              "      <td>[440.0,  0.10095511]</td>\n",
              "      <td>[131494.0,  -1.9036702]</td>\n",
              "      <td>[132132.0,  2.282851]</td>\n",
              "      <td>[131296.0,  0.1855158]</td>\n",
              "    </tr>\n",
              "    <tr>\n",
              "      <th>2021-06-10T16:59:52.0</th>\n",
              "      <td>[0.3,  1.5993667]</td>\n",
              "      <td>[80.4,  1.7470124]</td>\n",
              "      <td>[7.2000003,  2.844192]</td>\n",
              "      <td>[84.3,  1.8225609]</td>\n",
              "      <td>[84.4,  -0.4152294]</td>\n",
              "      <td>[73.0,  -2.450726]</td>\n",
              "      <td>[66.0,  -3.0832055]</td>\n",
              "      <td>[131692.0,  -1.9271592]</td>\n",
              "      <td>[418.0,  0.07439807]</td>\n",
              "      <td>[131538.0,  -1.9246665]</td>\n",
              "      <td>[132176.0,  2.2617588]</td>\n",
              "      <td>[131362.0,  0.16461532]</td>\n",
              "    </tr>\n",
              "    <tr>\n",
              "      <th>2021-06-10T16:59:53.0</th>\n",
              "      <td>[0.3,  1.4898788]</td>\n",
              "      <td>[80.200005,  1.6336895]</td>\n",
              "      <td>[7.1,  2.7245417]</td>\n",
              "      <td>[84.1,  1.7088546]</td>\n",
              "      <td>[84.1,  -0.52855223]</td>\n",
              "      <td>[72.8,  -2.5634737]</td>\n",
              "      <td>[66.0,  3.0810962]</td>\n",
              "      <td>[131626.0,  -2.0408657]</td>\n",
              "      <td>[418.0,  -0.036911413]</td>\n",
              "      <td>[131472.0,  -2.0384686]</td>\n",
              "      <td>[132110.0,  2.1480525]</td>\n",
              "      <td>[131296.0,  0.050813112]</td>\n",
              "    </tr>\n",
              "    <tr>\n",
              "      <th>2021-06-10T16:59:54.0</th>\n",
              "      <td>[0.3,  1.3647635]</td>\n",
              "      <td>[81.4,  1.5164359]</td>\n",
              "      <td>[7.0,  2.607959]</td>\n",
              "      <td>[85.200005,  1.5894917]</td>\n",
              "      <td>[85.200005,  -0.64379257]</td>\n",
              "      <td>[74.0,  -2.6806314]</td>\n",
              "      <td>[66.0,  2.9882903]</td>\n",
              "      <td>[131648.0,  -2.155243]</td>\n",
              "      <td>[440.0,  -0.12175973]</td>\n",
              "      <td>[131494.0,  -2.1527503]</td>\n",
              "      <td>[132132.0,  2.0338666]</td>\n",
              "      <td>[131318.0,  -0.06356433]</td>\n",
              "    </tr>\n",
              "    <tr>\n",
              "      <th>2021-06-10T16:59:55.0</th>\n",
              "      <td>[0.3,  1.2199941]</td>\n",
              "      <td>[81.700005,  1.3862393]</td>\n",
              "      <td>[7.1,  2.4747903]</td>\n",
              "      <td>[85.6,  1.4590075]</td>\n",
              "      <td>[85.6,  -0.77418095]</td>\n",
              "      <td>[74.4,  -2.8103487]</td>\n",
              "      <td>[66.0,  2.840357]</td>\n",
              "      <td>[131582.0,  -2.275948]</td>\n",
              "      <td>[418.0,  -0.23048061]</td>\n",
              "      <td>[131406.0,  -2.2735512]</td>\n",
              "      <td>[132066.0,  1.9131616]</td>\n",
              "      <td>[131274.0,  -0.18426944]</td>\n",
              "    </tr>\n",
              "    <tr>\n",
              "      <th>...</th>\n",
              "      <td>...</td>\n",
              "      <td>...</td>\n",
              "      <td>...</td>\n",
              "      <td>...</td>\n",
              "      <td>...</td>\n",
              "      <td>...</td>\n",
              "      <td>...</td>\n",
              "      <td>...</td>\n",
              "      <td>...</td>\n",
              "      <td>...</td>\n",
              "      <td>...</td>\n",
              "      <td>...</td>\n",
              "    </tr>\n",
              "    <tr>\n",
              "      <th>2021-06-14T14:31:54.0</th>\n",
              "      <td>[0.5,  -1.4909334]</td>\n",
              "      <td>[145.5,  -2.4832273]</td>\n",
              "      <td>[4.9,  -1.4550767]</td>\n",
              "      <td>[148.5,  -2.4513013]</td>\n",
              "      <td>[147.40001,  1.6764493]</td>\n",
              "      <td>[140.90001,  -0.3919321]</td>\n",
              "      <td>[0.0,  -1.0246032]</td>\n",
              "      <td>[129822.0,  0.40842238]</td>\n",
              "      <td>[418.0,  2.9508038]</td>\n",
              "      <td>[129470.0,  0.410244]</td>\n",
              "      <td>[130218.0,  -1.6844068]</td>\n",
              "      <td>[129778.0,  2.4996216]</td>\n",
              "    </tr>\n",
              "    <tr>\n",
              "      <th>2021-06-14T14:31:55.0</th>\n",
              "      <td>[0.5,  -1.4956312]</td>\n",
              "      <td>[144.5,  -2.482077]</td>\n",
              "      <td>[4.8,  -1.505698]</td>\n",
              "      <td>[147.6,  -2.451493]</td>\n",
              "      <td>[146.1,  1.6771203]</td>\n",
              "      <td>[139.90001,  -0.38896]</td>\n",
              "      <td>[0.0,  -1.0291094]</td>\n",
              "      <td>[129800.0,  0.41292846]</td>\n",
              "      <td>[418.0,  3.0454311]</td>\n",
              "      <td>[129426.0,  0.41446242]</td>\n",
              "      <td>[130196.0,  -1.6796131]</td>\n",
              "      <td>[129800.0,  2.504032]</td>\n",
              "    </tr>\n",
              "    <tr>\n",
              "      <th>2021-06-14T14:31:56.0</th>\n",
              "      <td>[0.5,  -1.4686908]</td>\n",
              "      <td>[145.0,  -2.478242]</td>\n",
              "      <td>[4.4,  -1.4517211]</td>\n",
              "      <td>[147.7,  -2.4489045]</td>\n",
              "      <td>[146.6,  1.6839274]</td>\n",
              "      <td>[140.7,  -0.38685077]</td>\n",
              "      <td>[0.0,  -0.95432776]</td>\n",
              "      <td>[129866.0,  0.4116821]</td>\n",
              "      <td>[484.0,  2.9493656]</td>\n",
              "      <td>[129470.0,  0.41369545]</td>\n",
              "      <td>[130328.0,  -1.6810511]</td>\n",
              "      <td>[129822.0,  2.5023062]</td>\n",
              "    </tr>\n",
              "    <tr>\n",
              "      <th>2021-06-14T14:31:57.0</th>\n",
              "      <td>[0.5,  -1.5114504]</td>\n",
              "      <td>[143.90001,  -2.4931023]</td>\n",
              "      <td>[4.9,  -1.5428011]</td>\n",
              "      <td>[147.1,  -2.4623268]</td>\n",
              "      <td>[145.40001,  1.6648486]</td>\n",
              "      <td>[139.2,  -0.39893088]</td>\n",
              "      <td>[0.0,  -1.054516]</td>\n",
              "      <td>[129910.0,  0.39221972]</td>\n",
              "      <td>[440.0,  3.0298038]</td>\n",
              "      <td>[129514.0,  0.39375368]</td>\n",
              "      <td>[130306.0,  -1.7003218]</td>\n",
              "      <td>[129910.0,  2.4831314]</td>\n",
              "    </tr>\n",
              "    <tr>\n",
              "      <th>2021-06-14T14:31:58.0</th>\n",
              "      <td>[0.6,  -1.5417465]</td>\n",
              "      <td>[147.0,  -2.5326982]</td>\n",
              "      <td>[5.7000003,  -1.5799043]</td>\n",
              "      <td>[150.7,  -2.4983754]</td>\n",
              "      <td>[148.90001,  1.621226]</td>\n",
              "      <td>[141.6,  -0.438335]</td>\n",
              "      <td>[0.0,  -1.0205766]</td>\n",
              "      <td>[129756.0,  0.35693815]</td>\n",
              "      <td>[374.0,  3.0294204]</td>\n",
              "      <td>[129404.0,  0.35818452]</td>\n",
              "      <td>[130086.0,  -1.7356993]</td>\n",
              "      <td>[129756.0,  2.448425]</td>\n",
              "    </tr>\n",
              "  </tbody>\n",
              "</table>\n",
              "<p>336307 rows × 12 columns</p>\n",
              "</div>"
            ],
            "text/plain": [
              "ChannelName                            I0  ...                    Uphs_c\n",
              "DateTime                                   ...                          \n",
              "2021-06-10T16:59:51.8   [0.3,  1.6222806]  ...    [131296.0,  0.1855158]\n",
              "2021-06-10T16:59:52.0   [0.3,  1.5993667]  ...   [131362.0,  0.16461532]\n",
              "2021-06-10T16:59:53.0   [0.3,  1.4898788]  ...  [131296.0,  0.050813112]\n",
              "2021-06-10T16:59:54.0   [0.3,  1.3647635]  ...  [131318.0,  -0.06356433]\n",
              "2021-06-10T16:59:55.0   [0.3,  1.2199941]  ...  [131274.0,  -0.18426944]\n",
              "...                                   ...  ...                       ...\n",
              "2021-06-14T14:31:54.0  [0.5,  -1.4909334]  ...    [129778.0,  2.4996216]\n",
              "2021-06-14T14:31:55.0  [0.5,  -1.4956312]  ...     [129800.0,  2.504032]\n",
              "2021-06-14T14:31:56.0  [0.5,  -1.4686908]  ...    [129822.0,  2.5023062]\n",
              "2021-06-14T14:31:57.0  [0.5,  -1.5114504]  ...    [129910.0,  2.4831314]\n",
              "2021-06-14T14:31:58.0  [0.6,  -1.5417465]  ...     [129756.0,  2.448425]\n",
              "\n",
              "[336307 rows x 12 columns]"
            ]
          },
          "metadata": {
            "tags": []
          },
          "execution_count": 15
        }
      ]
    },
    {
      "cell_type": "code",
      "metadata": {
        "colab": {
          "base_uri": "https://localhost:8080/",
          "height": 35
        },
        "id": "7n-cJ2HpsMrs",
        "outputId": "d9b536a5-ffee-4a79-9905-f5bac87fb8bc"
      },
      "source": [
        "pagk['I0'][0][0]"
      ],
      "execution_count": null,
      "outputs": [
        {
          "output_type": "execute_result",
          "data": {
            "application/vnd.google.colaboratory.intrinsic+json": {
              "type": "string"
            },
            "text/plain": [
              "'0.3'"
            ]
          },
          "metadata": {
            "tags": []
          },
          "execution_count": 18
        }
      ]
    },
    {
      "cell_type": "code",
      "metadata": {
        "id": "d5gROL8Uh85o"
      },
      "source": [
        "# Сохраним получившийся df в файл\n",
        "pagk.to_csv(path_or_buf = '/content/drive/MyDrive/Colab Notebooks/Работа/out/pagk.csv')"
      ],
      "execution_count": null,
      "outputs": []
    },
    {
      "cell_type": "markdown",
      "metadata": {
        "id": "UuUgd7e2mF_a"
      },
      "source": [
        "###Обработанная выгрузка:"
      ]
    },
    {
      "cell_type": "code",
      "metadata": {
        "id": "I58i4mXHlfd5"
      },
      "source": [
        "pagk = pd.read_csv(filepath_or_buffer = '/content/drive/MyDrive/Colab Notebooks/Работа/out/pagk.csv')"
      ],
      "execution_count": null,
      "outputs": []
    },
    {
      "cell_type": "code",
      "metadata": {
        "colab": {
          "base_uri": "https://localhost:8080/",
          "height": 581
        },
        "id": "hD2RZaNUlxv0",
        "outputId": "e2110180-9f04-41aa-b748-6b76634f845a"
      },
      "source": [
        "pagk"
      ],
      "execution_count": null,
      "outputs": [
        {
          "output_type": "execute_result",
          "data": {
            "text/html": [
              "<div>\n",
              "<style scoped>\n",
              "    .dataframe tbody tr th:only-of-type {\n",
              "        vertical-align: middle;\n",
              "    }\n",
              "\n",
              "    .dataframe tbody tr th {\n",
              "        vertical-align: top;\n",
              "    }\n",
              "\n",
              "    .dataframe thead th {\n",
              "        text-align: right;\n",
              "    }\n",
              "</style>\n",
              "<table border=\"1\" class=\"dataframe\">\n",
              "  <thead>\n",
              "    <tr style=\"text-align: right;\">\n",
              "      <th></th>\n",
              "      <th>DateTime</th>\n",
              "      <th>I0</th>\n",
              "      <th>I1</th>\n",
              "      <th>I2</th>\n",
              "      <th>Iphs_a</th>\n",
              "      <th>Iphs_b</th>\n",
              "      <th>Iphs_c</th>\n",
              "      <th>U0</th>\n",
              "      <th>U1</th>\n",
              "      <th>U2</th>\n",
              "      <th>Uphs_a</th>\n",
              "      <th>Uphs_b</th>\n",
              "      <th>Uphs_c</th>\n",
              "    </tr>\n",
              "  </thead>\n",
              "  <tbody>\n",
              "    <tr>\n",
              "      <th>0</th>\n",
              "      <td>2021-06-10T16:59:51.8</td>\n",
              "      <td>['0.3', ' 1.6222806']</td>\n",
              "      <td>['81.3', ' 1.7585173']</td>\n",
              "      <td>['7.2000003', ' 2.8639421']</td>\n",
              "      <td>['85.200005', ' 1.833874']</td>\n",
              "      <td>['85.4', ' -0.40276584']</td>\n",
              "      <td>['73.9', ' -2.4398923']</td>\n",
              "      <td>['66.0', ' -3.0641265']</td>\n",
              "      <td>['131648.0', ' -1.9061629']</td>\n",
              "      <td>['440.0', ' 0.10095511']</td>\n",
              "      <td>['131494.0', ' -1.9036702']</td>\n",
              "      <td>['132132.0', ' 2.282851']</td>\n",
              "      <td>['131296.0', ' 0.1855158']</td>\n",
              "    </tr>\n",
              "    <tr>\n",
              "      <th>1</th>\n",
              "      <td>2021-06-10T16:59:52.0</td>\n",
              "      <td>['0.3', ' 1.5993667']</td>\n",
              "      <td>['80.4', ' 1.7470124']</td>\n",
              "      <td>['7.2000003', ' 2.844192']</td>\n",
              "      <td>['84.3', ' 1.8225609']</td>\n",
              "      <td>['84.4', ' -0.4152294']</td>\n",
              "      <td>['73.0', ' -2.450726']</td>\n",
              "      <td>['66.0', ' -3.0832055']</td>\n",
              "      <td>['131692.0', ' -1.9271592']</td>\n",
              "      <td>['418.0', ' 0.07439807']</td>\n",
              "      <td>['131538.0', ' -1.9246665']</td>\n",
              "      <td>['132176.0', ' 2.2617588']</td>\n",
              "      <td>['131362.0', ' 0.16461532']</td>\n",
              "    </tr>\n",
              "    <tr>\n",
              "      <th>2</th>\n",
              "      <td>2021-06-10T16:59:53.0</td>\n",
              "      <td>['0.3', ' 1.4898788']</td>\n",
              "      <td>['80.200005', ' 1.6336895']</td>\n",
              "      <td>['7.1', ' 2.7245417']</td>\n",
              "      <td>['84.1', ' 1.7088546']</td>\n",
              "      <td>['84.1', ' -0.52855223']</td>\n",
              "      <td>['72.8', ' -2.5634737']</td>\n",
              "      <td>['66.0', ' 3.0810962']</td>\n",
              "      <td>['131626.0', ' -2.0408657']</td>\n",
              "      <td>['418.0', ' -0.036911413']</td>\n",
              "      <td>['131472.0', ' -2.0384686']</td>\n",
              "      <td>['132110.0', ' 2.1480525']</td>\n",
              "      <td>['131296.0', ' 0.050813112']</td>\n",
              "    </tr>\n",
              "    <tr>\n",
              "      <th>3</th>\n",
              "      <td>2021-06-10T16:59:54.0</td>\n",
              "      <td>['0.3', ' 1.3647635']</td>\n",
              "      <td>['81.4', ' 1.5164359']</td>\n",
              "      <td>['7.0', ' 2.607959']</td>\n",
              "      <td>['85.200005', ' 1.5894917']</td>\n",
              "      <td>['85.200005', ' -0.64379257']</td>\n",
              "      <td>['74.0', ' -2.6806314']</td>\n",
              "      <td>['66.0', ' 2.9882903']</td>\n",
              "      <td>['131648.0', ' -2.155243']</td>\n",
              "      <td>['440.0', ' -0.12175973']</td>\n",
              "      <td>['131494.0', ' -2.1527503']</td>\n",
              "      <td>['132132.0', ' 2.0338666']</td>\n",
              "      <td>['131318.0', ' -0.06356433']</td>\n",
              "    </tr>\n",
              "    <tr>\n",
              "      <th>4</th>\n",
              "      <td>2021-06-10T16:59:55.0</td>\n",
              "      <td>['0.3', ' 1.2199941']</td>\n",
              "      <td>['81.700005', ' 1.3862393']</td>\n",
              "      <td>['7.1', ' 2.4747903']</td>\n",
              "      <td>['85.6', ' 1.4590075']</td>\n",
              "      <td>['85.6', ' -0.77418095']</td>\n",
              "      <td>['74.4', ' -2.8103487']</td>\n",
              "      <td>['66.0', ' 2.840357']</td>\n",
              "      <td>['131582.0', ' -2.275948']</td>\n",
              "      <td>['418.0', ' -0.23048061']</td>\n",
              "      <td>['131406.0', ' -2.2735512']</td>\n",
              "      <td>['132066.0', ' 1.9131616']</td>\n",
              "      <td>['131274.0', ' -0.18426944']</td>\n",
              "    </tr>\n",
              "    <tr>\n",
              "      <th>...</th>\n",
              "      <td>...</td>\n",
              "      <td>...</td>\n",
              "      <td>...</td>\n",
              "      <td>...</td>\n",
              "      <td>...</td>\n",
              "      <td>...</td>\n",
              "      <td>...</td>\n",
              "      <td>...</td>\n",
              "      <td>...</td>\n",
              "      <td>...</td>\n",
              "      <td>...</td>\n",
              "      <td>...</td>\n",
              "      <td>...</td>\n",
              "    </tr>\n",
              "    <tr>\n",
              "      <th>336302</th>\n",
              "      <td>2021-06-14T14:31:54.0</td>\n",
              "      <td>['0.5', ' -1.4909334']</td>\n",
              "      <td>['145.5', ' -2.4832273']</td>\n",
              "      <td>['4.9', ' -1.4550767']</td>\n",
              "      <td>['148.5', ' -2.4513013']</td>\n",
              "      <td>['147.40001', ' 1.6764493']</td>\n",
              "      <td>['140.90001', ' -0.3919321']</td>\n",
              "      <td>['0.0', ' -1.0246032']</td>\n",
              "      <td>['129822.0', ' 0.40842238']</td>\n",
              "      <td>['418.0', ' 2.9508038']</td>\n",
              "      <td>['129470.0', ' 0.410244']</td>\n",
              "      <td>['130218.0', ' -1.6844068']</td>\n",
              "      <td>['129778.0', ' 2.4996216']</td>\n",
              "    </tr>\n",
              "    <tr>\n",
              "      <th>336303</th>\n",
              "      <td>2021-06-14T14:31:55.0</td>\n",
              "      <td>['0.5', ' -1.4956312']</td>\n",
              "      <td>['144.5', ' -2.482077']</td>\n",
              "      <td>['4.8', ' -1.505698']</td>\n",
              "      <td>['147.6', ' -2.451493']</td>\n",
              "      <td>['146.1', ' 1.6771203']</td>\n",
              "      <td>['139.90001', ' -0.38896']</td>\n",
              "      <td>['0.0', ' -1.0291094']</td>\n",
              "      <td>['129800.0', ' 0.41292846']</td>\n",
              "      <td>['418.0', ' 3.0454311']</td>\n",
              "      <td>['129426.0', ' 0.41446242']</td>\n",
              "      <td>['130196.0', ' -1.6796131']</td>\n",
              "      <td>['129800.0', ' 2.504032']</td>\n",
              "    </tr>\n",
              "    <tr>\n",
              "      <th>336304</th>\n",
              "      <td>2021-06-14T14:31:56.0</td>\n",
              "      <td>['0.5', ' -1.4686908']</td>\n",
              "      <td>['145.0', ' -2.478242']</td>\n",
              "      <td>['4.4', ' -1.4517211']</td>\n",
              "      <td>['147.7', ' -2.4489045']</td>\n",
              "      <td>['146.6', ' 1.6839274']</td>\n",
              "      <td>['140.7', ' -0.38685077']</td>\n",
              "      <td>['0.0', ' -0.95432776']</td>\n",
              "      <td>['129866.0', ' 0.4116821']</td>\n",
              "      <td>['484.0', ' 2.9493656']</td>\n",
              "      <td>['129470.0', ' 0.41369545']</td>\n",
              "      <td>['130328.0', ' -1.6810511']</td>\n",
              "      <td>['129822.0', ' 2.5023062']</td>\n",
              "    </tr>\n",
              "    <tr>\n",
              "      <th>336305</th>\n",
              "      <td>2021-06-14T14:31:57.0</td>\n",
              "      <td>['0.5', ' -1.5114504']</td>\n",
              "      <td>['143.90001', ' -2.4931023']</td>\n",
              "      <td>['4.9', ' -1.5428011']</td>\n",
              "      <td>['147.1', ' -2.4623268']</td>\n",
              "      <td>['145.40001', ' 1.6648486']</td>\n",
              "      <td>['139.2', ' -0.39893088']</td>\n",
              "      <td>['0.0', ' -1.054516']</td>\n",
              "      <td>['129910.0', ' 0.39221972']</td>\n",
              "      <td>['440.0', ' 3.0298038']</td>\n",
              "      <td>['129514.0', ' 0.39375368']</td>\n",
              "      <td>['130306.0', ' -1.7003218']</td>\n",
              "      <td>['129910.0', ' 2.4831314']</td>\n",
              "    </tr>\n",
              "    <tr>\n",
              "      <th>336306</th>\n",
              "      <td>2021-06-14T14:31:58.0</td>\n",
              "      <td>['0.6', ' -1.5417465']</td>\n",
              "      <td>['147.0', ' -2.5326982']</td>\n",
              "      <td>['5.7000003', ' -1.5799043']</td>\n",
              "      <td>['150.7', ' -2.4983754']</td>\n",
              "      <td>['148.90001', ' 1.621226']</td>\n",
              "      <td>['141.6', ' -0.438335']</td>\n",
              "      <td>['0.0', ' -1.0205766']</td>\n",
              "      <td>['129756.0', ' 0.35693815']</td>\n",
              "      <td>['374.0', ' 3.0294204']</td>\n",
              "      <td>['129404.0', ' 0.35818452']</td>\n",
              "      <td>['130086.0', ' -1.7356993']</td>\n",
              "      <td>['129756.0', ' 2.448425']</td>\n",
              "    </tr>\n",
              "  </tbody>\n",
              "</table>\n",
              "<p>336307 rows × 13 columns</p>\n",
              "</div>"
            ],
            "text/plain": [
              "                     DateTime  ...                        Uphs_c\n",
              "0       2021-06-10T16:59:51.8  ...    ['131296.0', ' 0.1855158']\n",
              "1       2021-06-10T16:59:52.0  ...   ['131362.0', ' 0.16461532']\n",
              "2       2021-06-10T16:59:53.0  ...  ['131296.0', ' 0.050813112']\n",
              "3       2021-06-10T16:59:54.0  ...  ['131318.0', ' -0.06356433']\n",
              "4       2021-06-10T16:59:55.0  ...  ['131274.0', ' -0.18426944']\n",
              "...                       ...  ...                           ...\n",
              "336302  2021-06-14T14:31:54.0  ...    ['129778.0', ' 2.4996216']\n",
              "336303  2021-06-14T14:31:55.0  ...     ['129800.0', ' 2.504032']\n",
              "336304  2021-06-14T14:31:56.0  ...    ['129822.0', ' 2.5023062']\n",
              "336305  2021-06-14T14:31:57.0  ...    ['129910.0', ' 2.4831314']\n",
              "336306  2021-06-14T14:31:58.0  ...     ['129756.0', ' 2.448425']\n",
              "\n",
              "[336307 rows x 13 columns]"
            ]
          },
          "metadata": {
            "tags": []
          },
          "execution_count": 132
        }
      ]
    },
    {
      "cell_type": "code",
      "metadata": {
        "id": "U7m8v-2KAD5r"
      },
      "source": [
        "# String to numbers\n",
        "def s2n(x):\n",
        "  return [float(x[1:-1].replace(\"'\",'').replace(\" \",'').split(',')[0]),\n",
        "  float(x[1:-1].replace(\"'\",'').replace(\" \",'').split(',')[1])]"
      ],
      "execution_count": null,
      "outputs": []
    },
    {
      "cell_type": "code",
      "metadata": {
        "id": "0TRvLdgQlx_g"
      },
      "source": [
        "# Уберем скобки, выделим амплитуду и фазу\n",
        "for i in pagk.columns[1:]:\n",
        "  pagk[i] = pagk[i].apply(s2n)\n",
        "# Переведем фазу в градусы и округлим, округлим амплитуду\n",
        "#pagk.iloc[:,1:-1] = pagk.iloc[:,1:-1].apply(lambda x: x[1:-1].split(','))"
      ],
      "execution_count": null,
      "outputs": []
    },
    {
      "cell_type": "code",
      "metadata": {
        "id": "uWS65if9KwiQ"
      },
      "source": [
        "pagk['angIa'] = pagk['Iphs_a'].apply(lambda x: x[1])\n",
        "pagk['angUa'] = pagk['Uphs_a'].apply(lambda x: x[1])\n",
        "\n",
        "pagk['Ia'] = pagk['Iphs_a'].apply(lambda x: x[0])\n",
        "pagk['Ua'] = pagk['Uphs_a'].apply(lambda x: x[0])"
      ],
      "execution_count": null,
      "outputs": []
    },
    {
      "cell_type": "code",
      "metadata": {
        "id": "LU0nb02DLQIZ"
      },
      "source": [
        "pagk['angUa-angIa'] = (pagk['angUa'] - pagk['angIa']) / np.pi * 180\n",
        "pagk['Sa'] = pagk['Ua'] * pagk['Ia'] / 1000000.0"
      ],
      "execution_count": null,
      "outputs": []
    },
    {
      "cell_type": "code",
      "metadata": {
        "id": "MSpFrLn0jTqb"
      },
      "source": [
        "def gradc(x):\n",
        "  if abs(x) > 180:\n",
        "    return 360-abs(x)\n",
        "  else:\n",
        "    return abs(x)"
      ],
      "execution_count": null,
      "outputs": []
    },
    {
      "cell_type": "code",
      "metadata": {
        "id": "NBev08Owj_f3"
      },
      "source": [
        "pagk['angUa-angIa'] = pagk['angUa-angIa'].apply(gradc)"
      ],
      "execution_count": null,
      "outputs": []
    },
    {
      "cell_type": "code",
      "metadata": {
        "colab": {
          "base_uri": "https://localhost:8080/",
          "height": 332
        },
        "id": "qXpIUnC4Bqxk",
        "outputId": "4bb78af2-340c-42d2-f7c7-bddfa0c1c412"
      },
      "source": [
        "pagk.head()"
      ],
      "execution_count": null,
      "outputs": [
        {
          "output_type": "execute_result",
          "data": {
            "text/html": [
              "<div>\n",
              "<style scoped>\n",
              "    .dataframe tbody tr th:only-of-type {\n",
              "        vertical-align: middle;\n",
              "    }\n",
              "\n",
              "    .dataframe tbody tr th {\n",
              "        vertical-align: top;\n",
              "    }\n",
              "\n",
              "    .dataframe thead th {\n",
              "        text-align: right;\n",
              "    }\n",
              "</style>\n",
              "<table border=\"1\" class=\"dataframe\">\n",
              "  <thead>\n",
              "    <tr style=\"text-align: right;\">\n",
              "      <th></th>\n",
              "      <th>DateTime</th>\n",
              "      <th>I0</th>\n",
              "      <th>I1</th>\n",
              "      <th>I2</th>\n",
              "      <th>Iphs_a</th>\n",
              "      <th>Iphs_b</th>\n",
              "      <th>Iphs_c</th>\n",
              "      <th>U0</th>\n",
              "      <th>U1</th>\n",
              "      <th>U2</th>\n",
              "      <th>Uphs_a</th>\n",
              "      <th>Uphs_b</th>\n",
              "      <th>Uphs_c</th>\n",
              "      <th>angIa</th>\n",
              "      <th>angUa</th>\n",
              "      <th>Ia</th>\n",
              "      <th>Ua</th>\n",
              "      <th>Sa</th>\n",
              "      <th>angUa-angIa</th>\n",
              "    </tr>\n",
              "    <tr>\n",
              "      <th>DateTime</th>\n",
              "      <th></th>\n",
              "      <th></th>\n",
              "      <th></th>\n",
              "      <th></th>\n",
              "      <th></th>\n",
              "      <th></th>\n",
              "      <th></th>\n",
              "      <th></th>\n",
              "      <th></th>\n",
              "      <th></th>\n",
              "      <th></th>\n",
              "      <th></th>\n",
              "      <th></th>\n",
              "      <th></th>\n",
              "      <th></th>\n",
              "      <th></th>\n",
              "      <th></th>\n",
              "      <th></th>\n",
              "      <th></th>\n",
              "    </tr>\n",
              "  </thead>\n",
              "  <tbody>\n",
              "    <tr>\n",
              "      <th>2021-06-10 16:59:51.800</th>\n",
              "      <td>2021-06-10T16:59:51.8</td>\n",
              "      <td>[0.3, 1.6222806]</td>\n",
              "      <td>[81.3, 1.7585173]</td>\n",
              "      <td>[7.2000003, 2.8639421]</td>\n",
              "      <td>[85.200005, 1.833874]</td>\n",
              "      <td>[85.4, -0.40276584]</td>\n",
              "      <td>[73.9, -2.4398923]</td>\n",
              "      <td>[66.0, -3.0641265]</td>\n",
              "      <td>[131648.0, -1.9061629]</td>\n",
              "      <td>[440.0, 0.10095511]</td>\n",
              "      <td>[131494.0, -1.9036702]</td>\n",
              "      <td>[132132.0, 2.282851]</td>\n",
              "      <td>[131296.0, 0.1855158]</td>\n",
              "      <td>1.833874</td>\n",
              "      <td>-1.903670</td>\n",
              "      <td>85.200005</td>\n",
              "      <td>131494.0</td>\n",
              "      <td>11.203289</td>\n",
              "      <td>145.854492</td>\n",
              "    </tr>\n",
              "    <tr>\n",
              "      <th>2021-06-10 16:59:52.000</th>\n",
              "      <td>2021-06-10T16:59:52.0</td>\n",
              "      <td>[0.3, 1.5993667]</td>\n",
              "      <td>[80.4, 1.7470124]</td>\n",
              "      <td>[7.2000003, 2.844192]</td>\n",
              "      <td>[84.3, 1.8225609]</td>\n",
              "      <td>[84.4, -0.4152294]</td>\n",
              "      <td>[73.0, -2.450726]</td>\n",
              "      <td>[66.0, -3.0832055]</td>\n",
              "      <td>[131692.0, -1.9271592]</td>\n",
              "      <td>[418.0, 0.07439807]</td>\n",
              "      <td>[131538.0, -1.9246665]</td>\n",
              "      <td>[132176.0, 2.2617588]</td>\n",
              "      <td>[131362.0, 0.16461532]</td>\n",
              "      <td>1.822561</td>\n",
              "      <td>-1.924667</td>\n",
              "      <td>84.300000</td>\n",
              "      <td>131538.0</td>\n",
              "      <td>11.088653</td>\n",
              "      <td>145.299685</td>\n",
              "    </tr>\n",
              "    <tr>\n",
              "      <th>2021-06-10 16:59:53.000</th>\n",
              "      <td>2021-06-10T16:59:53.0</td>\n",
              "      <td>[0.3, 1.4898788]</td>\n",
              "      <td>[80.200005, 1.6336895]</td>\n",
              "      <td>[7.1, 2.7245417]</td>\n",
              "      <td>[84.1, 1.7088546]</td>\n",
              "      <td>[84.1, -0.52855223]</td>\n",
              "      <td>[72.8, -2.5634737]</td>\n",
              "      <td>[66.0, 3.0810962]</td>\n",
              "      <td>[131626.0, -2.0408657]</td>\n",
              "      <td>[418.0, -0.036911413]</td>\n",
              "      <td>[131472.0, -2.0384686]</td>\n",
              "      <td>[132110.0, 2.1480525]</td>\n",
              "      <td>[131296.0, 0.050813112]</td>\n",
              "      <td>1.708855</td>\n",
              "      <td>-2.038469</td>\n",
              "      <td>84.100000</td>\n",
              "      <td>131472.0</td>\n",
              "      <td>11.056795</td>\n",
              "      <td>145.294196</td>\n",
              "    </tr>\n",
              "    <tr>\n",
              "      <th>2021-06-10 16:59:54.000</th>\n",
              "      <td>2021-06-10T16:59:54.0</td>\n",
              "      <td>[0.3, 1.3647635]</td>\n",
              "      <td>[81.4, 1.5164359]</td>\n",
              "      <td>[7.0, 2.607959]</td>\n",
              "      <td>[85.200005, 1.5894917]</td>\n",
              "      <td>[85.200005, -0.64379257]</td>\n",
              "      <td>[74.0, -2.6806314]</td>\n",
              "      <td>[66.0, 2.9882903]</td>\n",
              "      <td>[131648.0, -2.155243]</td>\n",
              "      <td>[440.0, -0.12175973]</td>\n",
              "      <td>[131494.0, -2.1527503]</td>\n",
              "      <td>[132132.0, 2.0338666]</td>\n",
              "      <td>[131318.0, -0.06356433]</td>\n",
              "      <td>1.589492</td>\n",
              "      <td>-2.152750</td>\n",
              "      <td>85.200005</td>\n",
              "      <td>131494.0</td>\n",
              "      <td>11.203289</td>\n",
              "      <td>145.585327</td>\n",
              "    </tr>\n",
              "    <tr>\n",
              "      <th>2021-06-10 16:59:55.000</th>\n",
              "      <td>2021-06-10T16:59:55.0</td>\n",
              "      <td>[0.3, 1.2199941]</td>\n",
              "      <td>[81.700005, 1.3862393]</td>\n",
              "      <td>[7.1, 2.4747903]</td>\n",
              "      <td>[85.6, 1.4590075]</td>\n",
              "      <td>[85.6, -0.77418095]</td>\n",
              "      <td>[74.4, -2.8103487]</td>\n",
              "      <td>[66.0, 2.840357]</td>\n",
              "      <td>[131582.0, -2.275948]</td>\n",
              "      <td>[418.0, -0.23048061]</td>\n",
              "      <td>[131406.0, -2.2735512]</td>\n",
              "      <td>[132066.0, 1.9131616]</td>\n",
              "      <td>[131274.0, -0.18426944]</td>\n",
              "      <td>1.459008</td>\n",
              "      <td>-2.273551</td>\n",
              "      <td>85.600000</td>\n",
              "      <td>131406.0</td>\n",
              "      <td>11.248354</td>\n",
              "      <td>146.140140</td>\n",
              "    </tr>\n",
              "  </tbody>\n",
              "</table>\n",
              "</div>"
            ],
            "text/plain": [
              "                                      DateTime  ... angUa-angIa\n",
              "DateTime                                        ...            \n",
              "2021-06-10 16:59:51.800  2021-06-10T16:59:51.8  ...  145.854492\n",
              "2021-06-10 16:59:52.000  2021-06-10T16:59:52.0  ...  145.299685\n",
              "2021-06-10 16:59:53.000  2021-06-10T16:59:53.0  ...  145.294196\n",
              "2021-06-10 16:59:54.000  2021-06-10T16:59:54.0  ...  145.585327\n",
              "2021-06-10 16:59:55.000  2021-06-10T16:59:55.0  ...  146.140140\n",
              "\n",
              "[5 rows x 19 columns]"
            ]
          },
          "metadata": {
            "tags": []
          },
          "execution_count": 147
        }
      ]
    },
    {
      "cell_type": "code",
      "metadata": {
        "id": "ucTJNAx7lL0z"
      },
      "source": [
        "# Устанавливаем столбец с датами в качестве индексов\n",
        "pagk.index = pd.to_datetime(pagk['DateTime'], dayfirst = True, format = '%Y-%m-%d %H:%M:%S.%f')\n",
        "# Удаляем теперь ненужную колонку 'InvoiceDate' из датафрейма\n",
        "#pagk.drop('Метка времени', axis=1, inplace=True)"
      ],
      "execution_count": null,
      "outputs": []
    },
    {
      "cell_type": "code",
      "metadata": {
        "colab": {
          "base_uri": "https://localhost:8080/",
          "height": 332
        },
        "id": "9LJqfQS0Bybu",
        "outputId": "72cbc484-4c38-4c31-a235-0214d1fe7dff"
      },
      "source": [
        "pagk.tail()"
      ],
      "execution_count": null,
      "outputs": [
        {
          "output_type": "execute_result",
          "data": {
            "text/html": [
              "<div>\n",
              "<style scoped>\n",
              "    .dataframe tbody tr th:only-of-type {\n",
              "        vertical-align: middle;\n",
              "    }\n",
              "\n",
              "    .dataframe tbody tr th {\n",
              "        vertical-align: top;\n",
              "    }\n",
              "\n",
              "    .dataframe thead th {\n",
              "        text-align: right;\n",
              "    }\n",
              "</style>\n",
              "<table border=\"1\" class=\"dataframe\">\n",
              "  <thead>\n",
              "    <tr style=\"text-align: right;\">\n",
              "      <th></th>\n",
              "      <th>DateTime</th>\n",
              "      <th>I0</th>\n",
              "      <th>I1</th>\n",
              "      <th>I2</th>\n",
              "      <th>Iphs_a</th>\n",
              "      <th>Iphs_b</th>\n",
              "      <th>Iphs_c</th>\n",
              "      <th>U0</th>\n",
              "      <th>U1</th>\n",
              "      <th>U2</th>\n",
              "      <th>Uphs_a</th>\n",
              "      <th>Uphs_b</th>\n",
              "      <th>Uphs_c</th>\n",
              "      <th>angIa</th>\n",
              "      <th>angUa</th>\n",
              "      <th>Ia</th>\n",
              "      <th>Ua</th>\n",
              "      <th>Sa</th>\n",
              "      <th>angUa-angIa</th>\n",
              "    </tr>\n",
              "    <tr>\n",
              "      <th>DateTime</th>\n",
              "      <th></th>\n",
              "      <th></th>\n",
              "      <th></th>\n",
              "      <th></th>\n",
              "      <th></th>\n",
              "      <th></th>\n",
              "      <th></th>\n",
              "      <th></th>\n",
              "      <th></th>\n",
              "      <th></th>\n",
              "      <th></th>\n",
              "      <th></th>\n",
              "      <th></th>\n",
              "      <th></th>\n",
              "      <th></th>\n",
              "      <th></th>\n",
              "      <th></th>\n",
              "      <th></th>\n",
              "      <th></th>\n",
              "    </tr>\n",
              "  </thead>\n",
              "  <tbody>\n",
              "    <tr>\n",
              "      <th>2021-06-14 14:31:54</th>\n",
              "      <td>2021-06-14T14:31:54.0</td>\n",
              "      <td>[0.5, -1.4909334]</td>\n",
              "      <td>[145.5, -2.4832273]</td>\n",
              "      <td>[4.9, -1.4550767]</td>\n",
              "      <td>[148.5, -2.4513013]</td>\n",
              "      <td>[147.40001, 1.6764493]</td>\n",
              "      <td>[140.90001, -0.3919321]</td>\n",
              "      <td>[0.0, -1.0246032]</td>\n",
              "      <td>[129822.0, 0.40842238]</td>\n",
              "      <td>[418.0, 2.9508038]</td>\n",
              "      <td>[129470.0, 0.410244]</td>\n",
              "      <td>[130218.0, -1.6844068]</td>\n",
              "      <td>[129778.0, 2.4996216]</td>\n",
              "      <td>-2.451301</td>\n",
              "      <td>0.410244</td>\n",
              "      <td>148.5</td>\n",
              "      <td>129470.0</td>\n",
              "      <td>19.226295</td>\n",
              "      <td>163.954469</td>\n",
              "    </tr>\n",
              "    <tr>\n",
              "      <th>2021-06-14 14:31:55</th>\n",
              "      <td>2021-06-14T14:31:55.0</td>\n",
              "      <td>[0.5, -1.4956312]</td>\n",
              "      <td>[144.5, -2.482077]</td>\n",
              "      <td>[4.8, -1.505698]</td>\n",
              "      <td>[147.6, -2.451493]</td>\n",
              "      <td>[146.1, 1.6771203]</td>\n",
              "      <td>[139.90001, -0.38896]</td>\n",
              "      <td>[0.0, -1.0291094]</td>\n",
              "      <td>[129800.0, 0.41292846]</td>\n",
              "      <td>[418.0, 3.0454311]</td>\n",
              "      <td>[129426.0, 0.41446242]</td>\n",
              "      <td>[130196.0, -1.6796131]</td>\n",
              "      <td>[129800.0, 2.504032]</td>\n",
              "      <td>-2.451493</td>\n",
              "      <td>0.414462</td>\n",
              "      <td>147.6</td>\n",
              "      <td>129426.0</td>\n",
              "      <td>19.103278</td>\n",
              "      <td>164.207150</td>\n",
              "    </tr>\n",
              "    <tr>\n",
              "      <th>2021-06-14 14:31:56</th>\n",
              "      <td>2021-06-14T14:31:56.0</td>\n",
              "      <td>[0.5, -1.4686908]</td>\n",
              "      <td>[145.0, -2.478242]</td>\n",
              "      <td>[4.4, -1.4517211]</td>\n",
              "      <td>[147.7, -2.4489045]</td>\n",
              "      <td>[146.6, 1.6839274]</td>\n",
              "      <td>[140.7, -0.38685077]</td>\n",
              "      <td>[0.0, -0.95432776]</td>\n",
              "      <td>[129866.0, 0.4116821]</td>\n",
              "      <td>[484.0, 2.9493656]</td>\n",
              "      <td>[129470.0, 0.41369545]</td>\n",
              "      <td>[130328.0, -1.6810511]</td>\n",
              "      <td>[129822.0, 2.5023062]</td>\n",
              "      <td>-2.448904</td>\n",
              "      <td>0.413695</td>\n",
              "      <td>147.7</td>\n",
              "      <td>129470.0</td>\n",
              "      <td>19.122719</td>\n",
              "      <td>164.014896</td>\n",
              "    </tr>\n",
              "    <tr>\n",
              "      <th>2021-06-14 14:31:57</th>\n",
              "      <td>2021-06-14T14:31:57.0</td>\n",
              "      <td>[0.5, -1.5114504]</td>\n",
              "      <td>[143.90001, -2.4931023]</td>\n",
              "      <td>[4.9, -1.5428011]</td>\n",
              "      <td>[147.1, -2.4623268]</td>\n",
              "      <td>[145.40001, 1.6648486]</td>\n",
              "      <td>[139.2, -0.39893088]</td>\n",
              "      <td>[0.0, -1.054516]</td>\n",
              "      <td>[129910.0, 0.39221972]</td>\n",
              "      <td>[440.0, 3.0298038]</td>\n",
              "      <td>[129514.0, 0.39375368]</td>\n",
              "      <td>[130306.0, -1.7003218]</td>\n",
              "      <td>[129910.0, 2.4831314]</td>\n",
              "      <td>-2.462327</td>\n",
              "      <td>0.393754</td>\n",
              "      <td>147.1</td>\n",
              "      <td>129514.0</td>\n",
              "      <td>19.051509</td>\n",
              "      <td>163.641357</td>\n",
              "    </tr>\n",
              "    <tr>\n",
              "      <th>2021-06-14 14:31:58</th>\n",
              "      <td>2021-06-14T14:31:58.0</td>\n",
              "      <td>[0.6, -1.5417465]</td>\n",
              "      <td>[147.0, -2.5326982]</td>\n",
              "      <td>[5.7000003, -1.5799043]</td>\n",
              "      <td>[150.7, -2.4983754]</td>\n",
              "      <td>[148.90001, 1.621226]</td>\n",
              "      <td>[141.6, -0.438335]</td>\n",
              "      <td>[0.0, -1.0205766]</td>\n",
              "      <td>[129756.0, 0.35693815]</td>\n",
              "      <td>[374.0, 3.0294204]</td>\n",
              "      <td>[129404.0, 0.35818452]</td>\n",
              "      <td>[130086.0, -1.7356993]</td>\n",
              "      <td>[129756.0, 2.448425]</td>\n",
              "      <td>-2.498375</td>\n",
              "      <td>0.358185</td>\n",
              "      <td>150.7</td>\n",
              "      <td>129404.0</td>\n",
              "      <td>19.501183</td>\n",
              "      <td>163.668827</td>\n",
              "    </tr>\n",
              "  </tbody>\n",
              "</table>\n",
              "</div>"
            ],
            "text/plain": [
              "                                  DateTime  ... angUa-angIa\n",
              "DateTime                                    ...            \n",
              "2021-06-14 14:31:54  2021-06-14T14:31:54.0  ...  163.954469\n",
              "2021-06-14 14:31:55  2021-06-14T14:31:55.0  ...  164.207150\n",
              "2021-06-14 14:31:56  2021-06-14T14:31:56.0  ...  164.014896\n",
              "2021-06-14 14:31:57  2021-06-14T14:31:57.0  ...  163.641357\n",
              "2021-06-14 14:31:58  2021-06-14T14:31:58.0  ...  163.668827\n",
              "\n",
              "[5 rows x 19 columns]"
            ]
          },
          "metadata": {
            "tags": []
          },
          "execution_count": 149
        }
      ]
    },
    {
      "cell_type": "code",
      "metadata": {
        "id": "vuXENGuokPA0"
      },
      "source": [
        "rpagk = pagk.resample('30T').mean()"
      ],
      "execution_count": null,
      "outputs": []
    },
    {
      "cell_type": "code",
      "metadata": {
        "id": "2HiM2MbYlLMc"
      },
      "source": [
        "rpagk[['angUa-angIa','Sa']].plot()"
      ],
      "execution_count": null,
      "outputs": []
    },
    {
      "cell_type": "code",
      "metadata": {
        "id": "CUk7MeVlCQqo"
      },
      "source": [
        "fig = rpagk[['angUa-angIa','Sa']].plot(\n",
        "                              kind = 'line',\n",
        "                              figsize = (20,12),\n",
        "                              legend = True,\n",
        "                              #yticks = np.arange(0, 11, step=0.2),\n",
        "                              #xticks = copied_data,\n",
        "                              use_index = True,\n",
        "                              subplots = True,\n",
        "                              grid = True,\n",
        "                              )"
      ],
      "execution_count": null,
      "outputs": []
    },
    {
      "cell_type": "code",
      "metadata": {
        "colab": {
          "base_uri": "https://localhost:8080/",
          "height": 735
        },
        "id": "glcptOygD57c",
        "outputId": "c5cf41a2-5aff-492a-f146-e55186d4a0f1"
      },
      "source": [
        "import matplotlib.pyplot as plt \n",
        "import datetime as dt\n",
        "\n",
        "#x = [dt.datetime.strptime(d,'%m/%d/%Y').date() for d in dates]\n",
        "#y = range(len(x))\n",
        "\n",
        "# Создаем  основу, которая будет содержать все элементы графика\n",
        "fig = plt.figure(figsize=(25,12))\n",
        "ax = fig.add_subplot(111)\n",
        "\n",
        "#plt.title('Exponential function')\n",
        "plt.plot(rpagk.index,\n",
        "         rpagk['angUa-angIa'],\n",
        "         label = 'angUa-angIa')\n",
        "\n",
        "plt.xlabel('Окно наблюдения')\n",
        "plt.ylabel('Угол между вектором U и вектором I фазы А, град°.')\n",
        "plt.grid(which = 'both')\n",
        "plt.legend()\n",
        "\n",
        "# Grid settings\n",
        "# ax.xaxis.grid(which=\"minor\", color='k', linestyle='-.', linewidth=0.7)\n",
        "ax.xaxis.grid(which=\"major\", color='k', linestyle='--', linewidth=1)\n",
        "\n",
        "# Limits of 'x' axis\n",
        "datemin = np.datetime64('2021-06-10 16:59:52')\n",
        "datemax = np.datetime64('2021-06-14 14:31:58')\n",
        "ax.set_xlim(datemin, datemax)\n",
        "\n",
        "# Major ticks every day.\n",
        "fmt_day = mdates.DayLocator(interval=1)\n",
        "ax.xaxis.set_major_locator(fmt_day)\n",
        "\n",
        "# Minor ticks every hour.\n",
        "fmt_hour = mdates.HourLocator(interval=2)\n",
        "ax.xaxis.set_minor_locator(fmt_hour)\n",
        "\n",
        "# Text of the minor 'x' ticks will be displayed in '%H' format.\n",
        "ax.xaxis.set_minor_formatter(mdates.DateFormatter('%H'))\n",
        "\n",
        "# Ticks params\n",
        "ax.tick_params(axis = 'x', which='both', width=1.5)\n",
        "ax.tick_params(axis = 'x', which='major', length=25, grid_linewidth = 1)\n",
        "ax.tick_params(axis = 'x', which='minor', length=4, color='r')\n",
        "\n",
        "plt.show()"
      ],
      "execution_count": null,
      "outputs": [
        {
          "output_type": "display_data",
          "data": {
            "image/png": "[encoded data removed]",
            "text/plain": [
              "<Figure size 1800x864 with 1 Axes>"
            ]
          },
          "metadata": {
            "tags": [],
            "needs_background": "light"
          }
        }
      ]
    },
    {
      "cell_type": "code",
      "metadata": {
        "colab": {
          "base_uri": "https://localhost:8080/"
        },
        "id": "Rjto3S8uQme2",
        "outputId": "86c58678-22e8-452d-be2d-4778b6b4b0cc"
      },
      "source": [
        "mask = pagk['angUa-angIa'] > 90\n",
        "mask.sum()/pagk.shape[0]"
      ],
      "execution_count": null,
      "outputs": [
        {
          "output_type": "execute_result",
          "data": {
            "text/plain": [
              "0.9097312871870047"
            ]
          },
          "metadata": {
            "tags": []
          },
          "execution_count": 159
        }
      ]
    }
  ]
}